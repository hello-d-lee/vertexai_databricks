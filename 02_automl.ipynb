{
 "cells": [
  {
   "cell_type": "markdown",
   "id": "c3aca892-9eb9-46c3-b1fe-f0f9704784b1",
   "metadata": {},
   "source": [
    "# Overview\n",
    "In this section, you will create a managed dataset in Vertex AI, train an AutoML model, evaluate the model, and examine the parameters in the logs to understand how to recreate the model if needed.\n",
    "\n",
    "## Create Vertex AI Managed Dataset\n",
    "In order to use Vertex AI AutoML, you must first create a managed dataset. Note - we are using the UI for these exercises, but all of these tasks can also be accomplished using the Vertex AI Python SDK. \n",
    "\n",
    "1. In Vertex AI console, navigate to Datasets\n",
    "2. Select \"Create\" and give your dataset a name, select Data Type as <b>Tabular</b>, <b>Regression / Classification</b> as the Objective. When choosing your region, choose the same region that you created your Vertex AI workbench managed notebook in, to ensure consistencies in regions. Click \"Create\"\n",
    "![](./managed_dataset.png)\n",
    "3. Now, let's add data to the this dataset. Choose \"Select a table or view from BigQuery\". Type in the path to the previously created training table in BigQuery: the format will be {PROJECT_ID}.{DATASET}.{TABLE}, then select create. You should see the information about this dataset now available:\n",
    "![](./dataset_created.png)\n",
    "You can now also click on \"Generate Statistics\" to generate a data profile around the data.\n",
    "\n",
    "## Model Training with AutoML\n",
    "1. Click on \"Train New Model\"\n",
    "2. Select Classification as the objective, choose AutoML as the training method\n",
    "4. Select train a new model, give the model a unique name, select label as the Target Column. Optionally, you can export a test dataset to BigQuery (we also have a separate test dataset reserved, so no need to do this). If you expand advanced options, you can also choose to change some of the default configurations. \n",
    "5. For Training Options, proceed with the default settings (unless you want to change them)\n",
    "6. Provide a budget of 3 node hours, and enable early stopping\n",
    "7. Click Start Training\n",
    "8. Navigate to Training on the Vertex AI sidebar - you'll see your job has successfully started, and you can drill into it to get specific details and status. \n",
    "![](./automl_train.png)\n",
    "\n",
    "Nice! Let this job run - in the meantime, head over to the BQML notebook and continue with the other training exercises whilst this job runs. "
   ]
  },
  {
   "cell_type": "markdown",
   "id": "26292d57-5dfb-403e-9ad8-bf2cf4d8e6a9",
   "metadata": {},
   "source": [
    "## Evaluate model\n",
    "Once the model has finished training, click on it to explore the evaluation results. \n",
    "\n",
    "You can see the evaluation metrics, as well as the feature attributions - which features were most important to the model prediction results. \n",
    "\n",
    "![](./automl_eval.png)\n",
    "\n",
    "If you navigate to the Vertex AI model registry, you will also see that the model is now available in the model registry. "
   ]
  },
  {
   "cell_type": "code",
   "execution_count": null,
   "id": "d92767f2-2592-44bb-a869-62aa8cc3e20d",
   "metadata": {},
   "outputs": [],
   "source": []
  }
 ],
 "metadata": {
  "environment": {
   "kernel": "python3",
   "name": "common-cpu.m102",
   "type": "gcloud",
   "uri": "gcr.io/deeplearning-platform-release/base-cpu:m102"
  },
  "kernelspec": {
   "display_name": "Python 3",
   "language": "python",
   "name": "python3"
  },
  "language_info": {
   "codemirror_mode": {
    "name": "ipython",
    "version": 3
   },
   "file_extension": ".py",
   "mimetype": "text/x-python",
   "name": "python",
   "nbconvert_exporter": "python",
   "pygments_lexer": "ipython3",
   "version": "3.7.12"
  }
 },
 "nbformat": 4,
 "nbformat_minor": 5
}
